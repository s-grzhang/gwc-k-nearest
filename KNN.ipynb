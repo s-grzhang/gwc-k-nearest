{
  "nbformat": 4,
  "nbformat_minor": 0,
  "metadata": {
    "colab": {
      "provenance": [],
      "authorship_tag": "ABX9TyOfr17yAFEfuW7lH6O9qsUi",
      "include_colab_link": true
    },
    "kernelspec": {
      "name": "python3",
      "display_name": "Python 3"
    },
    "language_info": {
      "name": "python"
    }
  },
  "cells": [
    {
      "cell_type": "markdown",
      "metadata": {
        "id": "view-in-github",
        "colab_type": "text"
      },
      "source": [
        "<a href=\"https://colab.research.google.com/github/s-grzhang/gwc-k-nearest/blob/main/KNN.ipynb\" target=\"_parent\"><img src=\"https://colab.research.google.com/assets/colab-badge.svg\" alt=\"Open In Colab\"/></a>"
      ]
    },
    {
      "cell_type": "code",
      "execution_count": 1,
      "metadata": {
        "colab": {
          "base_uri": "https://localhost:8080/"
        },
        "id": "fkHtX4se1lCa",
        "outputId": "53fc6892-07ef-44fd-f929-09f36dd68939"
      },
      "outputs": [
        {
          "output_type": "stream",
          "name": "stdout",
          "text": [
            "Downloading data from https://storage.googleapis.com/tensorflow/tf-keras-datasets/mnist.npz\n",
            "\u001b[1m11490434/11490434\u001b[0m \u001b[32m━━━━━━━━━━━━━━━━━━━━\u001b[0m\u001b[37m\u001b[0m \u001b[1m0s\u001b[0m 0us/step\n",
            "Accuracy: 94.52%\n"
          ]
        }
      ],
      "source": [
        "# Import necessary libraries\n",
        "import numpy as np\n",
        "from sklearn.neighbors import KNeighborsClassifier\n",
        "from tensorflow.keras.datasets import mnist\n",
        "from sklearn.metrics import accuracy_score\n",
        "from sklearn.preprocessing import StandardScaler\n",
        "\n",
        "# Load MNIST dataset\n",
        "(train_X, train_y), (test_X, test_y) = mnist.load_data()\n",
        "\n",
        "# Reshape the data to 2D arrays (each image is 28x28 pixels)\n",
        "train_X = train_X.reshape(-1, 28*28)\n",
        "test_X = test_X.reshape(-1, 28*28)\n",
        "\n",
        "# Normalize the data to have values between 0 and 1\n",
        "scaler = StandardScaler()\n",
        "train_X = scaler.fit_transform(train_X.astype(np.float64))\n",
        "test_X = scaler.transform(test_X.astype(np.float64))\n",
        "\n",
        "# Initialize the KNN classifier with k=3 (you can change the value of k)\n",
        "knn = KNeighborsClassifier(n_neighbors=3)\n",
        "\n",
        "# Train the KNN classifier\n",
        "knn.fit(train_X, train_y)\n",
        "\n",
        "# Predict using the trained model\n",
        "test_pred = knn.predict(test_X)\n",
        "\n",
        "# Calculate the accuracy\n",
        "accuracy = accuracy_score(test_y, test_pred)\n",
        "print(f\"Accuracy: {accuracy * 100:.2f}%\")\n"
      ]
    },
    {
      "cell_type": "code",
      "source": [
        "import matplotlib.pyplot as plt\n",
        "def predict_digit(image):\n",
        "    \"\"\"\n",
        "    Predict the digit represented by the input image.\n",
        "\n",
        "    Parameters:\n",
        "    image (numpy array): A 28x28 numpy array representing an MNIST digit.\n",
        "\n",
        "    Returns:\n",
        "    int: The predicted digit.\n",
        "    \"\"\"\n",
        "    # Reshape the image to a 1D array of 784 pixels\n",
        "    image = image.reshape(1, -1)\n",
        "\n",
        "    # Normalize the image\n",
        "    image = scaler.transform(image.astype(np.float64))\n",
        "\n",
        "    # Predict the digit\n",
        "    prediction = knn.predict(image)\n",
        "\n",
        "    return prediction[0]\n",
        "\n",
        "# Example usage: Predict the digit for the first test image\n",
        "sample_image = test_X[5].reshape(28, 28)  # Reshape back to 28x28 to simulate an input image\n",
        "predicted_digit = predict_digit(sample_image)\n",
        "\n",
        "# Display the image\n",
        "plt.imshow(sample_image, cmap='gray')\n",
        "plt.title(f\"Predicted Digit: {predicted_digit}\")\n",
        "plt.axis('off')  # Turn off axis labels\n",
        "plt.show()"
      ],
      "metadata": {
        "colab": {
          "base_uri": "https://localhost:8080/",
          "height": 428
        },
        "id": "xsQHQCp81msF",
        "outputId": "1451ef03-adb7-4c8a-c151-caacb1131230"
      },
      "execution_count": 5,
      "outputs": [
        {
          "output_type": "display_data",
          "data": {
            "text/plain": [
              "<Figure size 640x480 with 1 Axes>"
            ],
            "image/png": "[encoded data removed]"
          },
          "metadata": {}
        }
      ]
    },
    {
      "cell_type": "code",
      "source": [],
      "metadata": {
        "id": "0fmBqoPb2Oj3"
      },
      "execution_count": null,
      "outputs": []
    }
  ]
}